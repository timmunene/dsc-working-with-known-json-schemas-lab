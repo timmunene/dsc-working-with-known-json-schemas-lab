{
 "cells": [
  {
   "cell_type": "markdown",
   "metadata": {},
   "source": [
    "# Working with Known JSON Schemas - Lab"
   ]
  },
  {
   "cell_type": "markdown",
   "metadata": {},
   "source": [
    "## Introduction\n",
    "In this lab, you'll practice working with JSON files whose schema you know beforehand."
   ]
  },
  {
   "cell_type": "markdown",
   "metadata": {},
   "source": [
    "## Objectives\n",
    "\n",
    "You will be able to:\n",
    "\n",
    "* Use the `json` module to load and parse JSON documents\n",
    "* Extract data using predefined JSON schemas\n",
    "* Convert JSON to a pandas dataframe"
   ]
  },
  {
   "cell_type": "markdown",
   "metadata": {},
   "source": [
    "## Reading a JSON Schema\n",
    "\n",
    "Here's the JSON schema provided for a section of the NY Times API:\n",
    "<img src=\"images/nytimes_movie_schema.png\" width=500>\n",
    "\n",
    "or a fully expanded view:\n",
    "\n",
    "<img src=\"images/nytimes_movie_schema_detailed.png\" width=500>\n",
    "\n",
    "You can more about the documentation [here](https://developer.nytimes.com/docs/movie-reviews-api/1/routes/reviews/%7Btype%7D.json/get).\n",
    "\n"
   ]
  },
  {
   "cell_type": "markdown",
   "metadata": {},
   "source": [
    "## Loading the JSON Data\n",
    "\n",
    "Open the JSON file located at `ny_times_movies.json`, and use the `json` module to load the data into a variable called `data`."
   ]
  },
  {
   "cell_type": "code",
   "execution_count": 57,
   "metadata": {},
   "outputs": [
    {
     "data": {
      "text/html": [
       "<div>\n",
       "<style scoped>\n",
       "    .dataframe tbody tr th:only-of-type {\n",
       "        vertical-align: middle;\n",
       "    }\n",
       "\n",
       "    .dataframe tbody tr th {\n",
       "        vertical-align: top;\n",
       "    }\n",
       "\n",
       "    .dataframe thead th {\n",
       "        text-align: right;\n",
       "    }\n",
       "</style>\n",
       "<table border=\"1\" class=\"dataframe\">\n",
       "  <thead>\n",
       "    <tr style=\"text-align: right;\">\n",
       "      <th></th>\n",
       "      <th>status</th>\n",
       "      <th>copyright</th>\n",
       "      <th>has_more</th>\n",
       "      <th>num_results</th>\n",
       "      <th>results</th>\n",
       "    </tr>\n",
       "  </thead>\n",
       "  <tbody>\n",
       "    <tr>\n",
       "      <th>0</th>\n",
       "      <td>OK</td>\n",
       "      <td>Copyright (c) 2018 The New York Times Company....</td>\n",
       "      <td>True</td>\n",
       "      <td>20</td>\n",
       "      <td>{'display_title': 'Can You Ever Forgive Me', '...</td>\n",
       "    </tr>\n",
       "    <tr>\n",
       "      <th>1</th>\n",
       "      <td>OK</td>\n",
       "      <td>Copyright (c) 2018 The New York Times Company....</td>\n",
       "      <td>True</td>\n",
       "      <td>20</td>\n",
       "      <td>{'display_title': 'Charm City', 'mpaa_rating':...</td>\n",
       "    </tr>\n",
       "    <tr>\n",
       "      <th>2</th>\n",
       "      <td>OK</td>\n",
       "      <td>Copyright (c) 2018 The New York Times Company....</td>\n",
       "      <td>True</td>\n",
       "      <td>20</td>\n",
       "      <td>{'display_title': 'Horn from the Heart: The Pa...</td>\n",
       "    </tr>\n",
       "    <tr>\n",
       "      <th>3</th>\n",
       "      <td>OK</td>\n",
       "      <td>Copyright (c) 2018 The New York Times Company....</td>\n",
       "      <td>True</td>\n",
       "      <td>20</td>\n",
       "      <td>{'display_title': 'The Price of Everything', '...</td>\n",
       "    </tr>\n",
       "    <tr>\n",
       "      <th>4</th>\n",
       "      <td>OK</td>\n",
       "      <td>Copyright (c) 2018 The New York Times Company....</td>\n",
       "      <td>True</td>\n",
       "      <td>20</td>\n",
       "      <td>{'display_title': 'Impulso', 'mpaa_rating': ''...</td>\n",
       "    </tr>\n",
       "    <tr>\n",
       "      <th>5</th>\n",
       "      <td>OK</td>\n",
       "      <td>Copyright (c) 2018 The New York Times Company....</td>\n",
       "      <td>True</td>\n",
       "      <td>20</td>\n",
       "      <td>{'display_title': 'Watergate', 'mpaa_rating': ...</td>\n",
       "    </tr>\n",
       "    <tr>\n",
       "      <th>6</th>\n",
       "      <td>OK</td>\n",
       "      <td>Copyright (c) 2018 The New York Times Company....</td>\n",
       "      <td>True</td>\n",
       "      <td>20</td>\n",
       "      <td>{'display_title': 'Barbara', 'mpaa_rating': ''...</td>\n",
       "    </tr>\n",
       "    <tr>\n",
       "      <th>7</th>\n",
       "      <td>OK</td>\n",
       "      <td>Copyright (c) 2018 The New York Times Company....</td>\n",
       "      <td>True</td>\n",
       "      <td>20</td>\n",
       "      <td>{'display_title': 'Over the Limit', 'mpaa_rati...</td>\n",
       "    </tr>\n",
       "    <tr>\n",
       "      <th>8</th>\n",
       "      <td>OK</td>\n",
       "      <td>Copyright (c) 2018 The New York Times Company....</td>\n",
       "      <td>True</td>\n",
       "      <td>20</td>\n",
       "      <td>{'display_title': 'The Kindergarten Teacher', ...</td>\n",
       "    </tr>\n",
       "    <tr>\n",
       "      <th>9</th>\n",
       "      <td>OK</td>\n",
       "      <td>Copyright (c) 2018 The New York Times Company....</td>\n",
       "      <td>True</td>\n",
       "      <td>20</td>\n",
       "      <td>{'display_title': 'Classical Period', 'mpaa_ra...</td>\n",
       "    </tr>\n",
       "    <tr>\n",
       "      <th>10</th>\n",
       "      <td>OK</td>\n",
       "      <td>Copyright (c) 2018 The New York Times Company....</td>\n",
       "      <td>True</td>\n",
       "      <td>20</td>\n",
       "      <td>{'display_title': 'Bad Times at the El Royale'...</td>\n",
       "    </tr>\n",
       "    <tr>\n",
       "      <th>11</th>\n",
       "      <td>OK</td>\n",
       "      <td>Copyright (c) 2018 The New York Times Company....</td>\n",
       "      <td>True</td>\n",
       "      <td>20</td>\n",
       "      <td>{'display_title': 'Beautiful Boy', 'mpaa_ratin...</td>\n",
       "    </tr>\n",
       "    <tr>\n",
       "      <th>12</th>\n",
       "      <td>OK</td>\n",
       "      <td>Copyright (c) 2018 The New York Times Company....</td>\n",
       "      <td>True</td>\n",
       "      <td>20</td>\n",
       "      <td>{'display_title': 'The Oath', 'mpaa_rating': '...</td>\n",
       "    </tr>\n",
       "    <tr>\n",
       "      <th>13</th>\n",
       "      <td>OK</td>\n",
       "      <td>Copyright (c) 2018 The New York Times Company....</td>\n",
       "      <td>True</td>\n",
       "      <td>20</td>\n",
       "      <td>{'display_title': 'Bikini Moon', 'mpaa_rating'...</td>\n",
       "    </tr>\n",
       "    <tr>\n",
       "      <th>14</th>\n",
       "      <td>OK</td>\n",
       "      <td>Copyright (c) 2018 The New York Times Company....</td>\n",
       "      <td>True</td>\n",
       "      <td>20</td>\n",
       "      <td>{'display_title': 'Goosebumps 2: Haunted Hallo...</td>\n",
       "    </tr>\n",
       "    <tr>\n",
       "      <th>15</th>\n",
       "      <td>OK</td>\n",
       "      <td>Copyright (c) 2018 The New York Times Company....</td>\n",
       "      <td>True</td>\n",
       "      <td>20</td>\n",
       "      <td>{'display_title': 'The Sentence', 'mpaa_rating...</td>\n",
       "    </tr>\n",
       "    <tr>\n",
       "      <th>16</th>\n",
       "      <td>OK</td>\n",
       "      <td>Copyright (c) 2018 The New York Times Company....</td>\n",
       "      <td>True</td>\n",
       "      <td>20</td>\n",
       "      <td>{'display_title': 'All Square', 'mpaa_rating':...</td>\n",
       "    </tr>\n",
       "    <tr>\n",
       "      <th>17</th>\n",
       "      <td>OK</td>\n",
       "      <td>Copyright (c) 2018 The New York Times Company....</td>\n",
       "      <td>True</td>\n",
       "      <td>20</td>\n",
       "      <td>{'display_title': 'Sadie', 'mpaa_rating': '', ...</td>\n",
       "    </tr>\n",
       "    <tr>\n",
       "      <th>18</th>\n",
       "      <td>OK</td>\n",
       "      <td>Copyright (c) 2018 The New York Times Company....</td>\n",
       "      <td>True</td>\n",
       "      <td>20</td>\n",
       "      <td>{'display_title': 'After Everything', 'mpaa_ra...</td>\n",
       "    </tr>\n",
       "    <tr>\n",
       "      <th>19</th>\n",
       "      <td>OK</td>\n",
       "      <td>Copyright (c) 2018 The New York Times Company....</td>\n",
       "      <td>True</td>\n",
       "      <td>20</td>\n",
       "      <td>{'display_title': 'First Man', 'mpaa_rating': ...</td>\n",
       "    </tr>\n",
       "  </tbody>\n",
       "</table>\n",
       "</div>"
      ],
      "text/plain": [
       "   status                                          copyright  has_more  \\\n",
       "0      OK  Copyright (c) 2018 The New York Times Company....      True   \n",
       "1      OK  Copyright (c) 2018 The New York Times Company....      True   \n",
       "2      OK  Copyright (c) 2018 The New York Times Company....      True   \n",
       "3      OK  Copyright (c) 2018 The New York Times Company....      True   \n",
       "4      OK  Copyright (c) 2018 The New York Times Company....      True   \n",
       "5      OK  Copyright (c) 2018 The New York Times Company....      True   \n",
       "6      OK  Copyright (c) 2018 The New York Times Company....      True   \n",
       "7      OK  Copyright (c) 2018 The New York Times Company....      True   \n",
       "8      OK  Copyright (c) 2018 The New York Times Company....      True   \n",
       "9      OK  Copyright (c) 2018 The New York Times Company....      True   \n",
       "10     OK  Copyright (c) 2018 The New York Times Company....      True   \n",
       "11     OK  Copyright (c) 2018 The New York Times Company....      True   \n",
       "12     OK  Copyright (c) 2018 The New York Times Company....      True   \n",
       "13     OK  Copyright (c) 2018 The New York Times Company....      True   \n",
       "14     OK  Copyright (c) 2018 The New York Times Company....      True   \n",
       "15     OK  Copyright (c) 2018 The New York Times Company....      True   \n",
       "16     OK  Copyright (c) 2018 The New York Times Company....      True   \n",
       "17     OK  Copyright (c) 2018 The New York Times Company....      True   \n",
       "18     OK  Copyright (c) 2018 The New York Times Company....      True   \n",
       "19     OK  Copyright (c) 2018 The New York Times Company....      True   \n",
       "\n",
       "    num_results                                            results  \n",
       "0            20  {'display_title': 'Can You Ever Forgive Me', '...  \n",
       "1            20  {'display_title': 'Charm City', 'mpaa_rating':...  \n",
       "2            20  {'display_title': 'Horn from the Heart: The Pa...  \n",
       "3            20  {'display_title': 'The Price of Everything', '...  \n",
       "4            20  {'display_title': 'Impulso', 'mpaa_rating': ''...  \n",
       "5            20  {'display_title': 'Watergate', 'mpaa_rating': ...  \n",
       "6            20  {'display_title': 'Barbara', 'mpaa_rating': ''...  \n",
       "7            20  {'display_title': 'Over the Limit', 'mpaa_rati...  \n",
       "8            20  {'display_title': 'The Kindergarten Teacher', ...  \n",
       "9            20  {'display_title': 'Classical Period', 'mpaa_ra...  \n",
       "10           20  {'display_title': 'Bad Times at the El Royale'...  \n",
       "11           20  {'display_title': 'Beautiful Boy', 'mpaa_ratin...  \n",
       "12           20  {'display_title': 'The Oath', 'mpaa_rating': '...  \n",
       "13           20  {'display_title': 'Bikini Moon', 'mpaa_rating'...  \n",
       "14           20  {'display_title': 'Goosebumps 2: Haunted Hallo...  \n",
       "15           20  {'display_title': 'The Sentence', 'mpaa_rating...  \n",
       "16           20  {'display_title': 'All Square', 'mpaa_rating':...  \n",
       "17           20  {'display_title': 'Sadie', 'mpaa_rating': '', ...  \n",
       "18           20  {'display_title': 'After Everything', 'mpaa_ra...  \n",
       "19           20  {'display_title': 'First Man', 'mpaa_rating': ...  "
      ]
     },
     "execution_count": 57,
     "metadata": {},
     "output_type": "execute_result"
    }
   ],
   "source": [
    "# Your code here\n",
    "#import json doc using pandas\n",
    "import pandas as pd\n",
    "\n",
    "data = pd.read_json('ny_times_movies.json')\n",
    "\n",
    "data\n"
   ]
  },
  {
   "cell_type": "markdown",
   "metadata": {},
   "source": [
    "Run the code below to investigate its contents:"
   ]
  },
  {
   "cell_type": "code",
   "execution_count": 25,
   "metadata": {},
   "outputs": [
    {
     "name": "stdout",
     "output_type": "stream",
     "text": [
      "`data` has type <class 'pandas.core.frame.DataFrame'>\n",
      "The keys are ['status', 'copyright', 'has_more', 'num_results', 'results']\n"
     ]
    }
   ],
   "source": [
    "# Run this cell without changes\n",
    "print(\"`data` has type\", type(data))\n",
    "print(\"The keys are\", list(data.keys()))"
   ]
  },
  {
   "cell_type": "markdown",
   "metadata": {},
   "source": [
    "## Loading Results\n",
    "\n",
    "Create a variable `results` that contains the value associated with the `'results'` key."
   ]
  },
  {
   "cell_type": "code",
   "execution_count": 62,
   "metadata": {},
   "outputs": [
    {
     "name": "stdout",
     "output_type": "stream",
     "text": [
      "0     {'display_title': 'Can You Ever Forgive Me', '...\n",
      "1     {'display_title': 'Charm City', 'mpaa_rating':...\n",
      "2     {'display_title': 'Horn from the Heart: The Pa...\n",
      "3     {'display_title': 'The Price of Everything', '...\n",
      "4     {'display_title': 'Impulso', 'mpaa_rating': ''...\n",
      "5     {'display_title': 'Watergate', 'mpaa_rating': ...\n",
      "6     {'display_title': 'Barbara', 'mpaa_rating': ''...\n",
      "7     {'display_title': 'Over the Limit', 'mpaa_rati...\n",
      "8     {'display_title': 'The Kindergarten Teacher', ...\n",
      "9     {'display_title': 'Classical Period', 'mpaa_ra...\n",
      "10    {'display_title': 'Bad Times at the El Royale'...\n",
      "11    {'display_title': 'Beautiful Boy', 'mpaa_ratin...\n",
      "12    {'display_title': 'The Oath', 'mpaa_rating': '...\n",
      "13    {'display_title': 'Bikini Moon', 'mpaa_rating'...\n",
      "14    {'display_title': 'Goosebumps 2: Haunted Hallo...\n",
      "15    {'display_title': 'The Sentence', 'mpaa_rating...\n",
      "16    {'display_title': 'All Square', 'mpaa_rating':...\n",
      "17    {'display_title': 'Sadie', 'mpaa_rating': '', ...\n",
      "18    {'display_title': 'After Everything', 'mpaa_ra...\n",
      "19    {'display_title': 'First Man', 'mpaa_rating': ...\n",
      "Name: results, dtype: object\n"
     ]
    }
   ],
   "source": [
    "# your code here\n",
    "#variable named results to display values under the results key\n",
    "\n",
    "results = data['results']\n",
    "\n",
    "print(results)\n",
    "\n"
   ]
  },
  {
   "cell_type": "markdown",
   "metadata": {},
   "source": [
    "Below we display this variable as a table using pandas:"
   ]
  },
  {
   "cell_type": "code",
   "execution_count": 63,
   "metadata": {},
   "outputs": [
    {
     "data": {
      "text/html": [
       "<div>\n",
       "<style scoped>\n",
       "    .dataframe tbody tr th:only-of-type {\n",
       "        vertical-align: middle;\n",
       "    }\n",
       "\n",
       "    .dataframe tbody tr th {\n",
       "        vertical-align: top;\n",
       "    }\n",
       "\n",
       "    .dataframe thead th {\n",
       "        text-align: right;\n",
       "    }\n",
       "</style>\n",
       "<table border=\"1\" class=\"dataframe\">\n",
       "  <thead>\n",
       "    <tr style=\"text-align: right;\">\n",
       "      <th></th>\n",
       "      <th>results</th>\n",
       "    </tr>\n",
       "  </thead>\n",
       "  <tbody>\n",
       "    <tr>\n",
       "      <th>0</th>\n",
       "      <td>{'display_title': 'Can You Ever Forgive Me', '...</td>\n",
       "    </tr>\n",
       "    <tr>\n",
       "      <th>1</th>\n",
       "      <td>{'display_title': 'Charm City', 'mpaa_rating':...</td>\n",
       "    </tr>\n",
       "    <tr>\n",
       "      <th>2</th>\n",
       "      <td>{'display_title': 'Horn from the Heart: The Pa...</td>\n",
       "    </tr>\n",
       "    <tr>\n",
       "      <th>3</th>\n",
       "      <td>{'display_title': 'The Price of Everything', '...</td>\n",
       "    </tr>\n",
       "    <tr>\n",
       "      <th>4</th>\n",
       "      <td>{'display_title': 'Impulso', 'mpaa_rating': ''...</td>\n",
       "    </tr>\n",
       "    <tr>\n",
       "      <th>5</th>\n",
       "      <td>{'display_title': 'Watergate', 'mpaa_rating': ...</td>\n",
       "    </tr>\n",
       "    <tr>\n",
       "      <th>6</th>\n",
       "      <td>{'display_title': 'Barbara', 'mpaa_rating': ''...</td>\n",
       "    </tr>\n",
       "    <tr>\n",
       "      <th>7</th>\n",
       "      <td>{'display_title': 'Over the Limit', 'mpaa_rati...</td>\n",
       "    </tr>\n",
       "    <tr>\n",
       "      <th>8</th>\n",
       "      <td>{'display_title': 'The Kindergarten Teacher', ...</td>\n",
       "    </tr>\n",
       "    <tr>\n",
       "      <th>9</th>\n",
       "      <td>{'display_title': 'Classical Period', 'mpaa_ra...</td>\n",
       "    </tr>\n",
       "    <tr>\n",
       "      <th>10</th>\n",
       "      <td>{'display_title': 'Bad Times at the El Royale'...</td>\n",
       "    </tr>\n",
       "    <tr>\n",
       "      <th>11</th>\n",
       "      <td>{'display_title': 'Beautiful Boy', 'mpaa_ratin...</td>\n",
       "    </tr>\n",
       "    <tr>\n",
       "      <th>12</th>\n",
       "      <td>{'display_title': 'The Oath', 'mpaa_rating': '...</td>\n",
       "    </tr>\n",
       "    <tr>\n",
       "      <th>13</th>\n",
       "      <td>{'display_title': 'Bikini Moon', 'mpaa_rating'...</td>\n",
       "    </tr>\n",
       "    <tr>\n",
       "      <th>14</th>\n",
       "      <td>{'display_title': 'Goosebumps 2: Haunted Hallo...</td>\n",
       "    </tr>\n",
       "    <tr>\n",
       "      <th>15</th>\n",
       "      <td>{'display_title': 'The Sentence', 'mpaa_rating...</td>\n",
       "    </tr>\n",
       "    <tr>\n",
       "      <th>16</th>\n",
       "      <td>{'display_title': 'All Square', 'mpaa_rating':...</td>\n",
       "    </tr>\n",
       "    <tr>\n",
       "      <th>17</th>\n",
       "      <td>{'display_title': 'Sadie', 'mpaa_rating': '', ...</td>\n",
       "    </tr>\n",
       "    <tr>\n",
       "      <th>18</th>\n",
       "      <td>{'display_title': 'After Everything', 'mpaa_ra...</td>\n",
       "    </tr>\n",
       "    <tr>\n",
       "      <th>19</th>\n",
       "      <td>{'display_title': 'First Man', 'mpaa_rating': ...</td>\n",
       "    </tr>\n",
       "  </tbody>\n",
       "</table>\n",
       "</div>"
      ],
      "text/plain": [
       "                                              results\n",
       "0   {'display_title': 'Can You Ever Forgive Me', '...\n",
       "1   {'display_title': 'Charm City', 'mpaa_rating':...\n",
       "2   {'display_title': 'Horn from the Heart: The Pa...\n",
       "3   {'display_title': 'The Price of Everything', '...\n",
       "4   {'display_title': 'Impulso', 'mpaa_rating': ''...\n",
       "5   {'display_title': 'Watergate', 'mpaa_rating': ...\n",
       "6   {'display_title': 'Barbara', 'mpaa_rating': ''...\n",
       "7   {'display_title': 'Over the Limit', 'mpaa_rati...\n",
       "8   {'display_title': 'The Kindergarten Teacher', ...\n",
       "9   {'display_title': 'Classical Period', 'mpaa_ra...\n",
       "10  {'display_title': 'Bad Times at the El Royale'...\n",
       "11  {'display_title': 'Beautiful Boy', 'mpaa_ratin...\n",
       "12  {'display_title': 'The Oath', 'mpaa_rating': '...\n",
       "13  {'display_title': 'Bikini Moon', 'mpaa_rating'...\n",
       "14  {'display_title': 'Goosebumps 2: Haunted Hallo...\n",
       "15  {'display_title': 'The Sentence', 'mpaa_rating...\n",
       "16  {'display_title': 'All Square', 'mpaa_rating':...\n",
       "17  {'display_title': 'Sadie', 'mpaa_rating': '', ...\n",
       "18  {'display_title': 'After Everything', 'mpaa_ra...\n",
       "19  {'display_title': 'First Man', 'mpaa_rating': ..."
      ]
     },
     "execution_count": 63,
     "metadata": {},
     "output_type": "execute_result"
    }
   ],
   "source": [
    "# Run this cell without changes\n",
    "import pandas as pd\n",
    "df = pd.DataFrame(results)\n",
    "df"
   ]
  },
  {
   "cell_type": "markdown",
   "metadata": {},
   "source": [
    "## Data Analysis\n",
    "\n",
    "Now that you have a general sense of the data, answer some questions about it.\n",
    "\n",
    "### How many results are in the file?\n",
    "\n",
    "The metadata says this:"
   ]
  },
  {
   "cell_type": "code",
   "execution_count": 28,
   "metadata": {},
   "outputs": [
    {
     "data": {
      "text/plain": [
       "0     20\n",
       "1     20\n",
       "2     20\n",
       "3     20\n",
       "4     20\n",
       "5     20\n",
       "6     20\n",
       "7     20\n",
       "8     20\n",
       "9     20\n",
       "10    20\n",
       "11    20\n",
       "12    20\n",
       "13    20\n",
       "14    20\n",
       "15    20\n",
       "16    20\n",
       "17    20\n",
       "18    20\n",
       "19    20\n",
       "Name: num_results, dtype: int64"
      ]
     },
     "execution_count": 28,
     "metadata": {},
     "output_type": "execute_result"
    }
   ],
   "source": [
    "# Run this cell without changes\n",
    "data['num_results']"
   ]
  },
  {
   "cell_type": "markdown",
   "metadata": {},
   "source": [
    "Double-check that by looking at `results`. Does it line up?"
   ]
  },
  {
   "cell_type": "code",
   "execution_count": 29,
   "metadata": {},
   "outputs": [
    {
     "name": "stdout",
     "output_type": "stream",
     "text": [
      "0     {'display_title': 'Can You Ever Forgive Me', '...\n",
      "1     {'display_title': 'Charm City', 'mpaa_rating':...\n",
      "2     {'display_title': 'Horn from the Heart: The Pa...\n",
      "3     {'display_title': 'The Price of Everything', '...\n",
      "4     {'display_title': 'Impulso', 'mpaa_rating': ''...\n",
      "5     {'display_title': 'Watergate', 'mpaa_rating': ...\n",
      "6     {'display_title': 'Barbara', 'mpaa_rating': ''...\n",
      "7     {'display_title': 'Over the Limit', 'mpaa_rati...\n",
      "8     {'display_title': 'The Kindergarten Teacher', ...\n",
      "9     {'display_title': 'Classical Period', 'mpaa_ra...\n",
      "10    {'display_title': 'Bad Times at the El Royale'...\n",
      "11    {'display_title': 'Beautiful Boy', 'mpaa_ratin...\n",
      "12    {'display_title': 'The Oath', 'mpaa_rating': '...\n",
      "13    {'display_title': 'Bikini Moon', 'mpaa_rating'...\n",
      "14    {'display_title': 'Goosebumps 2: Haunted Hallo...\n",
      "15    {'display_title': 'The Sentence', 'mpaa_rating...\n",
      "16    {'display_title': 'All Square', 'mpaa_rating':...\n",
      "17    {'display_title': 'Sadie', 'mpaa_rating': '', ...\n",
      "18    {'display_title': 'After Everything', 'mpaa_ra...\n",
      "19    {'display_title': 'First Man', 'mpaa_rating': ...\n",
      "Name: results, dtype: object\n"
     ]
    }
   ],
   "source": [
    "# Your code here\n",
    "print(results)"
   ]
  },
  {
   "cell_type": "code",
   "execution_count": 30,
   "metadata": {},
   "outputs": [
    {
     "data": {
      "text/plain": [
       "'\\nIt lines up as 20 results starting with the index 0 to 19\\n'"
      ]
     },
     "execution_count": 30,
     "metadata": {},
     "output_type": "execute_result"
    }
   ],
   "source": [
    "\"\"\"\n",
    "It lines up as 20 results starting with the index 0 to 19\n",
    "\"\"\""
   ]
  },
  {
   "cell_type": "markdown",
   "metadata": {},
   "source": [
    "### How many unique critics are there?\n",
    "\n",
    "A critic's name can be identified using the `'byline'` key. Assign your answer to the variable `unique_critics`."
   ]
  },
  {
   "cell_type": "code",
   "execution_count": 69,
   "metadata": {},
   "outputs": [
    {
     "name": "stdout",
     "output_type": "stream",
     "text": [
      "['A.O. SCOTT' 'BEN KENIGSBERG' 'GLENN KENNY' 'JEANNETTE CATSOULIS'\n",
      " 'MANOHLA DARGIS' 'KEN JAWOROWSKI' 'TEO BUGBEE']\n"
     ]
    },
    {
     "data": {
      "text/plain": [
       "7"
      ]
     },
     "execution_count": 69,
     "metadata": {},
     "output_type": "execute_result"
    }
   ],
   "source": [
    "# Your code here\n",
    "\n",
    "\n",
    "unique_critics = []\n",
    "\n",
    "unique_critics = results_df['byline'].unique()\n",
    "\n",
    "print(unique_critics)\n",
    "\n",
    "len(unique_critics)\n"
   ]
  },
  {
   "cell_type": "markdown",
   "metadata": {},
   "source": [
    "This code checks your answer."
   ]
  },
  {
   "cell_type": "code",
   "execution_count": 70,
   "metadata": {},
   "outputs": [
    {
     "ename": "ValueError",
     "evalue": "The truth value of an array with more than one element is ambiguous. Use a.any() or a.all()",
     "output_type": "error",
     "traceback": [
      "\u001b[1;31m---------------------------------------------------------------------------\u001b[0m",
      "\u001b[1;31mValueError\u001b[0m                                Traceback (most recent call last)",
      "Cell \u001b[1;32mIn[70], line 2\u001b[0m\n\u001b[0;32m      1\u001b[0m \u001b[38;5;66;03m# Run this cell without changes\u001b[39;00m\n\u001b[1;32m----> 2\u001b[0m \u001b[38;5;28;01massert\u001b[39;00m unique_critics \u001b[38;5;241m==\u001b[39m \u001b[38;5;241m7\u001b[39m\n",
      "\u001b[1;31mValueError\u001b[0m: The truth value of an array with more than one element is ambiguous. Use a.any() or a.all()"
     ]
    }
   ],
   "source": [
    "# Run this cell without changes\n",
    "assert unique_critics == 7"
   ]
  },
  {
   "cell_type": "markdown",
   "metadata": {},
   "source": [
    "## Flattening Data\n",
    "\n",
    "Create a list `review_urls` that contains the URL for each review. This can be found using the `'url'` key nested under `'link'`."
   ]
  },
  {
   "cell_type": "code",
   "execution_count": 71,
   "metadata": {},
   "outputs": [
    {
     "name": "stdout",
     "output_type": "stream",
     "text": [
      "['http://www.nytimes.com/2018/10/16/movies/can-you-ever-forgive-me-review-melissa-mccarthy.html', 'http://www.nytimes.com/2018/10/16/movies/charm-city-review-baltimore.html', 'http://www.nytimes.com/2018/10/16/movies/horn-from-the-heart-review-paul-butterfield.html', 'http://www.nytimes.com/2018/10/16/movies/the-price-of-everything-review-documentary.html', 'http://www.nytimes.com/2018/10/16/movies/impulso-review-documentary.html', 'http://www.nytimes.com/2018/10/11/movies/watergate-review-documentary.html', 'http://www.nytimes.com/2018/10/11/movies/barbara-review.html', 'http://www.nytimes.com/2018/10/11/movies/over-the-limit-review.html', 'http://www.nytimes.com/2018/10/11/movies/the-kindergarten-teacher-review.html', 'http://www.nytimes.com/2018/10/11/movies/classical-period-review.html', 'http://www.nytimes.com/2018/10/11/movies/bad-times-at-the-el-royale-review.html', 'http://www.nytimes.com/2018/10/11/movies/beautiful-boy-review-steve-carell.html', 'http://www.nytimes.com/2018/10/11/movies/the-oath-review-tiffany-haddish.html', 'http://www.nytimes.com/2018/10/11/movies/bikini-moon-review.html', 'http://www.nytimes.com/2018/10/11/movies/goosebumps-2-haunted-halloween-review.html', 'http://www.nytimes.com/2018/10/11/movies/the-sentence-review.html', 'http://www.nytimes.com/2018/10/11/movies/all-square-review.html', 'http://www.nytimes.com/2018/10/11/movies/sadie-review.html', 'http://www.nytimes.com/2018/10/11/movies/after-everything-review.html', 'http://www.nytimes.com/2018/10/10/movies/first-man-review-ryan-gosling-damien-chazelle.html']\n"
     ]
    }
   ],
   "source": [
    "# Your code here (create more cells as needed)\n",
    "#Create empty list titled review_urls\n",
    "review_urls = []\n",
    "\n",
    "#code for list comprehension to extract urls nested under 'link'\n",
    "review_urls = [review['link']['url'] for review in results if 'link' in review and 'url' in review['link']]\n",
    "\n",
    "print(review_urls)\n",
    "\n"
   ]
  },
  {
   "cell_type": "markdown",
   "metadata": {},
   "source": [
    "The following code will check your answer:"
   ]
  },
  {
   "cell_type": "code",
   "execution_count": 72,
   "metadata": {},
   "outputs": [],
   "source": [
    "# Run this cell without changes\n",
    "\n",
    "# review_urls should be a list\n",
    "assert type(review_urls) == list\n",
    "\n",
    "# The length should be 20, same as the length of reviews\n",
    "assert len(review_urls) == 20\n",
    "\n",
    "# The data type contained should be string\n",
    "assert type(review_urls[0]) == str and type(review_urls[-1]) == str\n",
    "\n",
    "# Spot checking a specific value\n",
    "assert review_urls[6] == 'http://www.nytimes.com/2018/10/11/movies/barbara-review.html'"
   ]
  },
  {
   "cell_type": "markdown",
   "metadata": {},
   "source": [
    "## Summary\n",
    "In this lab you practiced extracting and transforming data from JSON files with known schemas."
   ]
  }
 ],
 "metadata": {
  "kernelspec": {
   "display_name": "base",
   "language": "python",
   "name": "python3"
  },
  "language_info": {
   "codemirror_mode": {
    "name": "ipython",
    "version": 3
   },
   "file_extension": ".py",
   "mimetype": "text/x-python",
   "name": "python",
   "nbconvert_exporter": "python",
   "pygments_lexer": "ipython3",
   "version": "3.12.7"
  },
  "toc": {
   "base_numbering": 1,
   "nav_menu": {},
   "number_sections": true,
   "sideBar": true,
   "skip_h1_title": false,
   "title_cell": "Table of Contents",
   "title_sidebar": "Contents",
   "toc_cell": false,
   "toc_position": {},
   "toc_section_display": true,
   "toc_window_display": false
  }
 },
 "nbformat": 4,
 "nbformat_minor": 2
}
